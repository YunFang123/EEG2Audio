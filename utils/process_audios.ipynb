{
 "cells": [
  {
   "cell_type": "markdown",
   "id": "e8720136",
   "metadata": {},
   "source": [
    "Instruction: \n",
    "1. Get your raw audio folder ready\n",
    "    - c01_class1/\n",
    "        - xxxx.ext\n",
    "        - xxxx.ext\n",
    "        - ......\n",
    "\n",
    "2. Prepare your own audio processing function\n",
    "\n",
    "3. Modify the lines labelled #TODO in this script."
   ]
  },
  {
   "cell_type": "code",
   "execution_count": null,
   "id": "bf39953e",
   "metadata": {},
   "outputs": [],
   "source": [
    "import os\n",
    "import librosa\n",
    "import numpy as np\n",
    "import soundfile as sf\n",
    "from tqdm import tqdm\n",
    "from typing import List, Tuple\n",
    "\n",
    "cls=\"Liquid\"    # TODO\n",
    "cls_idx=14  # TODO\n",
    "\n",
    "cls_folder = f\"c{cls_idx:02d}_{cls}\"\n",
    "\n",
    "raw_dir = \"EEG2Audio/Raw/\"   # TODO\n",
    "save_dir = \"EEG2Audio/16bit/\"    # TODO"
   ]
  },
  {
   "cell_type": "code",
   "execution_count": null,
   "id": "7b084fcf",
   "metadata": {},
   "outputs": [],
   "source": [
    "# Load audio in the directory\n",
    "from audio_utils import load_audio_files_from_dir\n",
    "audio_files = load_audio_files_from_dir(raw_dir+cls_folder)\n"
   ]
  },
  {
   "cell_type": "code",
   "execution_count": null,
   "id": "95daf51c",
   "metadata": {},
   "outputs": [],
   "source": [
    "# Probe format before processing\n",
    "from audio_utils import probe_format\n",
    "\n",
    "for i in range(len(audio_files)):\n",
    "    filename, audio, sr = audio_files[i]\n",
    "    \n",
    "    print(f\"Check format of file {i+1}/{len(audio_files)}: {filename}\")\n",
    "    probe_format(filename, audio, sr)"
   ]
  },
  {
   "cell_type": "code",
   "execution_count": null,
   "id": "aca19c4b",
   "metadata": {},
   "outputs": [],
   "source": [
    "# Process audio files\n",
    "from audio_utils import process_audio_liquid as process_audio   # TODO: Use your own processing function\n",
    "\n",
    "for i in range(len(audio_files)):\n",
    "    filename, audio, sr = audio_files[i]\n",
    "    print(f\"Processing file {i+1}/{len(audio_files)}: {filename}\")\n",
    "    filename, audio, sr = process_audio(filename, audio, sr)\n",
    "    \n",
    "    audio_files[i] = (filename, audio, sr)"
   ]
  },
  {
   "cell_type": "code",
   "execution_count": null,
   "id": "1d485e08",
   "metadata": {},
   "outputs": [],
   "source": [
    "# Assert format after processing\n",
    "from audio_utils import assert_format\n",
    "\n",
    "for i in range(len(audio_files)):\n",
    "    filename, audio, sr = audio_files[i]\n",
    "    \n",
    "    print(f\"Check format of file {i+1}/{len(audio_files)}: {filename}\")\n",
    "    # probe_format(filename, audio, sr)\n",
    "    assert_format(filename, audio, sr)\n",
    "print(\"All good!\")"
   ]
  },
  {
   "cell_type": "code",
   "execution_count": null,
   "id": "bceac421",
   "metadata": {},
   "outputs": [],
   "source": [
    "# Save processed audio files\n",
    "from audio_utils import save_audio\n",
    "\n",
    "for i in range(len(audio_files)):\n",
    "    filename, audio, sr = audio_files[i]\n",
    "    print(f\"Saving processed file {i+1}/{len(audio_files)}: {filename}\")\n",
    "    filename = f\"c{cls_idx:02d}_{(i+1):02d}.wav\"\n",
    "    \n",
    "    save_audio(cls_folder, save_dir, filename, audio, sr)"
   ]
  }
 ],
 "metadata": {
  "kernelspec": {
   "display_name": "EEG2Audio",
   "language": "python",
   "name": "python3"
  },
  "language_info": {
   "codemirror_mode": {
    "name": "ipython",
    "version": 3
   },
   "file_extension": ".py",
   "mimetype": "text/x-python",
   "name": "python",
   "nbconvert_exporter": "python",
   "pygments_lexer": "ipython3",
   "version": "3.13.5"
  }
 },
 "nbformat": 4,
 "nbformat_minor": 5
}
